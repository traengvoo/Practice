{
  "nbformat": 4,
  "nbformat_minor": 0,
  "metadata": {
    "colab": {
      "name": "Math_functions.ipynb",
      "provenance": [],
      "collapsed_sections": []
    },
    "kernelspec": {
      "name": "python3",
      "display_name": "Python 3"
    },
    "language_info": {
      "name": "python"
    }
  },
  "cells": [
    {
      "cell_type": "markdown",
      "metadata": {
        "id": "Z58x0X5K6JLh"
      },
      "source": [
        "# Here is a list of math functions that can be used to minimalize numbers of if/else/elif blocks\n",
        "\n",
        "For each function, the first block is the code using if/elif statement, the second uses alternative math function\n",
        "\n",
        "\n"
      ]
    },
    {
      "cell_type": "code",
      "metadata": {
        "id": "OvsNuZ3d-ZUf"
      },
      "source": [
        "import time\n",
        "import math\n",
        "import numpy as np"
      ],
      "execution_count": 1,
      "outputs": []
    },
    {
      "cell_type": "markdown",
      "metadata": {
        "id": "OyleCSrjhz1K"
      },
      "source": [
        "# **Fuzzy Encoding**"
      ]
    },
    {
      "cell_type": "code",
      "metadata": {
        "colab": {
          "base_uri": "https://localhost:8080/"
        },
        "id": "GUCpxEYkhy8j",
        "outputId": "43947d77-62da-4ba0-a40b-c3f4eb649ac0"
      },
      "source": [
        "start = time.time()\n",
        "\n",
        "def fuzzy_encoding_using_elif(x, y, T): \n",
        "    xT = x + T\n",
        "    yT = y + T\n",
        "\n",
        "    if (xT <= y):\n",
        "        return 5\n",
        "    elif (x < y < xT):\n",
        "        return 4\n",
        "    elif (x == y):\n",
        "        return 3\n",
        "    elif (y < x < yT):\n",
        "        return 2\n",
        "    elif (yT <= x): \n",
        "        return 1\n",
        "\n",
        "print(fuzzy_encoding_using_elif(2, 3, 1))\n",
        "print(time.time() - start)"
      ],
      "execution_count": 2,
      "outputs": [
        {
          "output_type": "stream",
          "text": [
            "5\n",
            "0.0016536712646484375\n"
          ],
          "name": "stdout"
        }
      ]
    },
    {
      "cell_type": "code",
      "metadata": {
        "colab": {
          "base_uri": "https://localhost:8080/"
        },
        "id": "xkuk2syNk-CN",
        "outputId": "9182e548-cd1b-4173-e381-87dd03610abf"
      },
      "source": [
        "start = time.time()\n",
        "\n",
        "def fuzzy_encoding_using_math_func(x, y, T):\n",
        "  a = (y - x)/T\n",
        "\n",
        "  result = a*2+3\n",
        "\n",
        "  if a!=0 and a!=1 and a!=-1:\n",
        "    result = (abs(a)/a) + abs(a+1)/(2*(a+1)) + abs(a-1)/(2*(a-1)) + 3\n",
        "    \n",
        "  return result   \n",
        "\n",
        "print(fuzzy_encoding_using_math_func(2, 3, 1))\n",
        "print(time.time() - start)"
      ],
      "execution_count": 3,
      "outputs": [
        {
          "output_type": "stream",
          "text": [
            "5.0\n",
            "0.0013425350189208984\n"
          ],
          "name": "stdout"
        }
      ]
    },
    {
      "cell_type": "markdown",
      "metadata": {
        "id": "Fepf3WALfwbm"
      },
      "source": [
        "# **Local Binary Pattern**"
      ]
    },
    {
      "cell_type": "code",
      "metadata": {
        "colab": {
          "base_uri": "https://localhost:8080/"
        },
        "id": "8fbTxU0Sfmep",
        "outputId": "61cc584e-1fbb-46cf-e156-dc2f42782241"
      },
      "source": [
        "start = time.time()\n",
        "\n",
        "def LBP_using_elif(x,y):\n",
        "  if x == y:\n",
        "    return 0\n",
        "  elif x > y:\n",
        "    return 1\n",
        "  else:\n",
        "    return -1\n",
        "\n",
        "print(LBP_using_elif(13, 6))\n",
        "print(LBP_using_elif(2, 7))\n",
        "print(time.time() - start)"
      ],
      "execution_count": 4,
      "outputs": [
        {
          "output_type": "stream",
          "text": [
            "1\n",
            "-1\n",
            "0.001974344253540039\n"
          ],
          "name": "stdout"
        }
      ]
    },
    {
      "cell_type": "code",
      "metadata": {
        "colab": {
          "base_uri": "https://localhost:8080/"
        },
        "id": "BziAUgcqgYTe",
        "outputId": "462f4c9f-ce6c-4508-e27b-bca3b895a6cd"
      },
      "source": [
        "start = time.time()\n",
        "\n",
        "def LBP_using_math_func(x,y):\n",
        "  result = 0\n",
        "\n",
        "  if x!= y:\n",
        "    result = (abs(x-y))/(x-y)\n",
        "\n",
        "  return result\n",
        "\n",
        "print(LBP_using_math_func(13, 6))\n",
        "print(LBP_using_math_func(2, 2))\n",
        "print(time.time() - start)"
      ],
      "execution_count": 5,
      "outputs": [
        {
          "output_type": "stream",
          "text": [
            "1.0\n",
            "0\n",
            "0.0012612342834472656\n"
          ],
          "name": "stdout"
        }
      ]
    },
    {
      "cell_type": "markdown",
      "metadata": {
        "id": "W1xA9-0jFhmv"
      },
      "source": [
        "# **ReLu activation function:**"
      ]
    },
    {
      "cell_type": "code",
      "metadata": {
        "colab": {
          "base_uri": "https://localhost:8080/"
        },
        "id": "gLPgJPCU_uiV",
        "outputId": "f49ec3d2-8f77-46ca-c03b-47a0d5492835"
      },
      "source": [
        "start = time.time()\n",
        "\n",
        "def ReLu(x):\n",
        "  result = 0\n",
        "  if x > 0:\n",
        "    result = x\n",
        "  return result\n",
        "\n",
        "print(ReLu(6))\n",
        "print(ReLu(-13))\n",
        "print(time.time() - start)"
      ],
      "execution_count": 6,
      "outputs": [
        {
          "output_type": "stream",
          "text": [
            "6\n",
            "0\n",
            "0.0019845962524414062\n"
          ],
          "name": "stdout"
        }
      ]
    },
    {
      "cell_type": "code",
      "metadata": {
        "colab": {
          "base_uri": "https://localhost:8080/"
        },
        "id": "nv3peyXbAV3M",
        "outputId": "164340bf-5662-43e4-cf6f-63d03801d0af"
      },
      "source": [
        "start = time.time()\n",
        "\n",
        "def ReLu_using_math_func(x):\n",
        "  return (abs(x)+x)/2\n",
        "\n",
        "print(ReLu_using_math_func(6))\n",
        "print(ReLu_using_math_func(-13))\n",
        "print(time.time() - start)"
      ],
      "execution_count": 7,
      "outputs": [
        {
          "output_type": "stream",
          "text": [
            "6.0\n",
            "0.0\n",
            "0.0012044906616210938\n"
          ],
          "name": "stdout"
        }
      ]
    },
    {
      "cell_type": "markdown",
      "metadata": {
        "id": "iwPmimcyFtYi"
      },
      "source": [
        "# **Binary step activation**"
      ]
    },
    {
      "cell_type": "code",
      "metadata": {
        "colab": {
          "base_uri": "https://localhost:8080/"
        },
        "id": "4xbdIsEFQ1GI",
        "outputId": "119d4500-13f1-4d29-df52-25557078032e"
      },
      "source": [
        "start = time.time()\n",
        "\n",
        "def binary_step(x):\n",
        "  result = 0\n",
        "  if x >= 0:\n",
        "    result = 1\n",
        "  return result\n",
        "\n",
        "print(binary_step(6))\n",
        "print(binary_step(-13))\n",
        "print(time.time() - start)"
      ],
      "execution_count": 8,
      "outputs": [
        {
          "output_type": "stream",
          "text": [
            "1\n",
            "0\n",
            "0.0005998611450195312\n"
          ],
          "name": "stdout"
        }
      ]
    },
    {
      "cell_type": "code",
      "metadata": {
        "colab": {
          "base_uri": "https://localhost:8080/"
        },
        "id": "yxuHrvGYRCza",
        "outputId": "8f6e459b-aa2a-4e58-d401-d687750d9150"
      },
      "source": [
        "start = time.time()\n",
        "\n",
        "def binary_step_using_math_func(x):\n",
        "  return ((abs(x)/x)+1)/2\n",
        "\n",
        "print(binary_step_using_math_func(613))\n",
        "print(binary_step_using_math_func(-13))\n",
        "print(time.time() - start)\n"
      ],
      "execution_count": 9,
      "outputs": [
        {
          "output_type": "stream",
          "text": [
            "1.0\n",
            "0.0\n",
            "0.0003666877746582031\n"
          ],
          "name": "stdout"
        }
      ]
    },
    {
      "cell_type": "markdown",
      "metadata": {
        "id": "jhSVBp8ASoFC"
      },
      "source": [
        "# **ELU activation function**"
      ]
    },
    {
      "cell_type": "code",
      "metadata": {
        "colab": {
          "base_uri": "https://localhost:8080/"
        },
        "id": "uwcBwSL9Swr5",
        "outputId": "02e97b08-2355-4b3b-c78f-8cba1347335e"
      },
      "source": [
        "start = time.time()\n",
        "\n",
        "def ELU(x, alpha): #parameter alpha\n",
        "  result = alpha*(math.exp(x)-1)\n",
        "  if x > 0:\n",
        "    result = x\n",
        "  return result\n",
        "\n",
        "print(ELU(6, 1))\n",
        "print(ELU(-13, 1))\n",
        "print(time.time() - start)"
      ],
      "execution_count": 10,
      "outputs": [
        {
          "output_type": "stream",
          "text": [
            "6\n",
            "-0.999997739670593\n",
            "0.0029075145721435547\n"
          ],
          "name": "stdout"
        }
      ]
    },
    {
      "cell_type": "code",
      "metadata": {
        "colab": {
          "base_uri": "https://localhost:8080/"
        },
        "id": "RuIhyeDoUGXH",
        "outputId": "04e33942-41b1-4973-e755-2334f30c3b6e"
      },
      "source": [
        "start = time.time()\n",
        "\n",
        "def ELU_using_math_func(x, alpha): #parameter alpha\n",
        "  result = 0\n",
        "\n",
        "  if x != 0:\n",
        "    result = (alpha*(x-abs(x))*(math.exp(x)-1)+x*(abs(x)+x))/(2*x)\n",
        "\n",
        "  return result\n",
        "\n",
        "print(ELU_using_math_func(6, 1))\n",
        "print(ELU_using_math_func(0, 1))\n",
        "print(time.time() - start)"
      ],
      "execution_count": 11,
      "outputs": [
        {
          "output_type": "stream",
          "text": [
            "6.0\n",
            "0\n",
            "0.0020263195037841797\n"
          ],
          "name": "stdout"
        }
      ]
    },
    {
      "cell_type": "markdown",
      "metadata": {
        "id": "Px2WwO-NWR0o"
      },
      "source": [
        "# **PReLU**"
      ]
    },
    {
      "cell_type": "code",
      "metadata": {
        "colab": {
          "base_uri": "https://localhost:8080/"
        },
        "id": "zTlzt5ieWdka",
        "outputId": "9b140798-54cd-4d92-c4e8-c54d68d3d02f"
      },
      "source": [
        "start = time.time()\n",
        "\n",
        "def PReLu(x, alpha): #parameter alpha\n",
        "  result = alpha*x\n",
        "  if x >= 0:\n",
        "    result = x\n",
        "  return result\n",
        "\n",
        "print(PReLu(6, 2))\n",
        "print(PReLu(-13, 2))\n",
        "print(time.time() - start)"
      ],
      "execution_count": 12,
      "outputs": [
        {
          "output_type": "stream",
          "text": [
            "6\n",
            "-26\n",
            "0.001855611801147461\n"
          ],
          "name": "stdout"
        }
      ]
    },
    {
      "cell_type": "code",
      "metadata": {
        "colab": {
          "base_uri": "https://localhost:8080/"
        },
        "id": "yIm2mEQcWsmT",
        "outputId": "2937137e-f769-4bcc-ea8c-144f8f3dee8d"
      },
      "source": [
        "start = time.time()\n",
        "\n",
        "def PReLu_using_math_func(x, alpha): #parameter alpha\n",
        "  return ((abs(x)+x)+alpha*(x-abs(x)))/2\n",
        "\n",
        "print(PReLu_using_math_func(6, 2))\n",
        "print(PReLu_using_math_func(-13, 2))\n",
        "print(time.time() - start)"
      ],
      "execution_count": 13,
      "outputs": [
        {
          "output_type": "stream",
          "text": [
            "6.0\n",
            "-26.0\n",
            "0.00225067138671875\n"
          ],
          "name": "stdout"
        }
      ]
    },
    {
      "cell_type": "code",
      "metadata": {
        "id": "Gu_x2hye94Yw"
      },
      "source": [
        ""
      ],
      "execution_count": 13,
      "outputs": []
    }
  ]
}