{
  "nbformat": 4,
  "nbformat_minor": 0,
  "metadata": {
    "colab": {
      "name": "Math_functions.ipynb",
      "provenance": [],
      "collapsed_sections": []
    },
    "kernelspec": {
      "name": "python3",
      "display_name": "Python 3"
    },
    "language_info": {
      "name": "python"
    }
  },
  "cells": [
    {
      "cell_type": "markdown",
      "metadata": {
        "id": "Z58x0X5K6JLh"
      },
      "source": [
        "# Here is a list of math functions that can be used to minimalize numbers of if/else/elif blocks\n",
        "\n",
        "For each function, the first block is the code using if/elif statement, the second uses alternative math function\n",
        "\n",
        "\n"
      ]
    },
    {
      "cell_type": "code",
      "metadata": {
        "id": "OvsNuZ3d-ZUf"
      },
      "source": [
        "import time\n",
        "import math\n",
        "import numpy as np"
      ],
      "execution_count": 14,
      "outputs": []
    },
    {
      "cell_type": "markdown",
      "metadata": {
        "id": "OyleCSrjhz1K"
      },
      "source": [
        "# **Fuzzy Encoding**"
      ]
    },
    {
      "cell_type": "code",
      "metadata": {
        "colab": {
          "base_uri": "https://localhost:8080/"
        },
        "id": "GUCpxEYkhy8j",
        "outputId": "9c27f6a3-7b51-4766-f222-ff33e80af410"
      },
      "source": [
        "start = time.time()\n",
        "\n",
        "def fuzzy_encoding_using_elif(x, y, T): \n",
        "    xT = x + T\n",
        "    yT = y + T\n",
        "\n",
        "    if (xT <= y):\n",
        "        return 5\n",
        "    elif (x < y < xT):\n",
        "        return 4\n",
        "    elif (x == y):\n",
        "        return 3\n",
        "    elif (y < x < yT):\n",
        "        return 2\n",
        "    elif (yT <= x): \n",
        "        return 1\n",
        "\n",
        "print(fuzzy_encoding_using_elif(2, 3, 1))\n",
        "print(time.time() - start)"
      ],
      "execution_count": 15,
      "outputs": [
        {
          "output_type": "stream",
          "text": [
            "5\n",
            "0.006497859954833984\n"
          ],
          "name": "stdout"
        }
      ]
    },
    {
      "cell_type": "code",
      "metadata": {
        "colab": {
          "base_uri": "https://localhost:8080/"
        },
        "id": "xkuk2syNk-CN",
        "outputId": "12d55698-9f0b-4faf-f43b-8673e713b78b"
      },
      "source": [
        "start = time.time()\n",
        "\n",
        "def fuzzy_encoding_using_math_func(x, y, T):\n",
        "  a = (y - x)/T\n",
        "\n",
        "  result = a*2+3\n",
        "\n",
        "  if a!=0 and a!=1 and a!=-1:\n",
        "    result = (abs(a)/a) + abs(a+1)/(2*(a+1)) + abs(a-1)/(2*(a-1)) + 3\n",
        "    \n",
        "  return result   \n",
        "\n",
        "print(fuzzy_encoding_using_math_func(2, 3, 1))\n",
        "print(time.time() - start)"
      ],
      "execution_count": 16,
      "outputs": [
        {
          "output_type": "stream",
          "text": [
            "5.0\n",
            "0.0014493465423583984\n"
          ],
          "name": "stdout"
        }
      ]
    },
    {
      "cell_type": "markdown",
      "metadata": {
        "id": "Fepf3WALfwbm"
      },
      "source": [
        "# **Local Binary Pattern**"
      ]
    },
    {
      "cell_type": "code",
      "metadata": {
        "colab": {
          "base_uri": "https://localhost:8080/"
        },
        "id": "8fbTxU0Sfmep",
        "outputId": "7e8ddad9-3591-4233-da28-13e18318c908"
      },
      "source": [
        "start = time.time()\n",
        "\n",
        "def LBP_using_elif(x,y):\n",
        "  if x == y:\n",
        "    return 0\n",
        "  elif x > y:\n",
        "    return 1\n",
        "  else:\n",
        "    return -1\n",
        "\n",
        "print(LBP_using_elif(13, 6))\n",
        "print(LBP_using_elif(2, 7))\n",
        "print(time.time() - start)"
      ],
      "execution_count": 17,
      "outputs": [
        {
          "output_type": "stream",
          "text": [
            "1\n",
            "-1\n",
            "0.0010843276977539062\n"
          ],
          "name": "stdout"
        }
      ]
    },
    {
      "cell_type": "code",
      "metadata": {
        "colab": {
          "base_uri": "https://localhost:8080/"
        },
        "id": "BziAUgcqgYTe",
        "outputId": "acded5b1-fe78-4042-fbde-4f3d84d10202"
      },
      "source": [
        "start = time.time()\n",
        "\n",
        "def LBP_using_math_func(x,y):\n",
        "  result = 0\n",
        "\n",
        "  if x!= y:\n",
        "    result = (abs(x-y))/(x-y)\n",
        "\n",
        "  return result\n",
        "\n",
        "print(LBP_using_math_func(13, 6))\n",
        "print(LBP_using_math_func(2, 2))\n",
        "print(time.time() - start)"
      ],
      "execution_count": 18,
      "outputs": [
        {
          "output_type": "stream",
          "text": [
            "1.0\n",
            "0\n",
            "0.0013058185577392578\n"
          ],
          "name": "stdout"
        }
      ]
    },
    {
      "cell_type": "markdown",
      "metadata": {
        "id": "W1xA9-0jFhmv"
      },
      "source": [
        "# **ReLu activation function:**"
      ]
    },
    {
      "cell_type": "code",
      "metadata": {
        "colab": {
          "base_uri": "https://localhost:8080/"
        },
        "id": "gLPgJPCU_uiV",
        "outputId": "391ff33f-9b8e-4f44-cd55-ef84e1ed806b"
      },
      "source": [
        "start = time.time()\n",
        "\n",
        "def ReLu(x):\n",
        "  result = 0\n",
        "  if x > 0:\n",
        "    result = x\n",
        "  return result\n",
        "\n",
        "print(ReLu(6))\n",
        "print(ReLu(-13))\n",
        "print(time.time() - start)"
      ],
      "execution_count": 19,
      "outputs": [
        {
          "output_type": "stream",
          "text": [
            "6\n",
            "0\n",
            "0.0027294158935546875\n"
          ],
          "name": "stdout"
        }
      ]
    },
    {
      "cell_type": "code",
      "metadata": {
        "colab": {
          "base_uri": "https://localhost:8080/"
        },
        "id": "nv3peyXbAV3M",
        "outputId": "9dceeeee-a326-4a7b-a933-4481e3841fc0"
      },
      "source": [
        "start = time.time()\n",
        "\n",
        "def ReLu_using_math_func(x):\n",
        "  return (abs(x)+x)/2\n",
        "\n",
        "print(ReLu_using_math_func(6))\n",
        "print(ReLu_using_math_func(-13))\n",
        "print(time.time() - start)"
      ],
      "execution_count": 20,
      "outputs": [
        {
          "output_type": "stream",
          "text": [
            "6.0\n",
            "0.0\n",
            "0.0015492439270019531\n"
          ],
          "name": "stdout"
        }
      ]
    },
    {
      "cell_type": "markdown",
      "metadata": {
        "id": "iwPmimcyFtYi"
      },
      "source": [
        "# **Binary step activation**"
      ]
    },
    {
      "cell_type": "code",
      "metadata": {
        "colab": {
          "base_uri": "https://localhost:8080/"
        },
        "id": "4xbdIsEFQ1GI",
        "outputId": "a989ba6a-8e42-4c0a-e783-dc0117c0213f"
      },
      "source": [
        "start = time.time()\n",
        "\n",
        "def binary_step(x):\n",
        "  result = 0\n",
        "  if x >= 0:\n",
        "    result = 1\n",
        "  return result\n",
        "\n",
        "print(binary_step(6))\n",
        "print(binary_step(-13))\n",
        "print(time.time() - start)"
      ],
      "execution_count": 21,
      "outputs": [
        {
          "output_type": "stream",
          "text": [
            "1\n",
            "0\n",
            "0.006679534912109375\n"
          ],
          "name": "stdout"
        }
      ]
    },
    {
      "cell_type": "code",
      "metadata": {
        "colab": {
          "base_uri": "https://localhost:8080/"
        },
        "id": "yxuHrvGYRCza",
        "outputId": "773dd888-5495-433d-ff5a-921101a825c5"
      },
      "source": [
        "start = time.time()\n",
        "\n",
        "def binary_step_using_math_func(x):\n",
        "  return ((abs(x)/x)+1)/2\n",
        "\n",
        "print(binary_step_using_math_func(613))\n",
        "print(binary_step_using_math_func(-13))\n",
        "print(time.time() - start)\n"
      ],
      "execution_count": 22,
      "outputs": [
        {
          "output_type": "stream",
          "text": [
            "1.0\n",
            "0.0\n",
            "0.001810312271118164\n"
          ],
          "name": "stdout"
        }
      ]
    },
    {
      "cell_type": "markdown",
      "metadata": {
        "id": "jhSVBp8ASoFC"
      },
      "source": [
        "# **ELU activation function**"
      ]
    },
    {
      "cell_type": "code",
      "metadata": {
        "colab": {
          "base_uri": "https://localhost:8080/"
        },
        "id": "uwcBwSL9Swr5",
        "outputId": "b265f276-9759-4940-cd34-ae1e5b2bfb6b"
      },
      "source": [
        "start = time.time()\n",
        "\n",
        "def ELU(x, alpha): #parameter alpha\n",
        "  result = alpha*(math.exp(x)-1)\n",
        "  if x > 0:\n",
        "    result = x\n",
        "  return result\n",
        "\n",
        "print(ELU(6, 1))\n",
        "print(ELU(-13, 1))\n",
        "print(time.time() - start)"
      ],
      "execution_count": 23,
      "outputs": [
        {
          "output_type": "stream",
          "text": [
            "6\n",
            "-0.999997739670593\n",
            "0.0013899803161621094\n"
          ],
          "name": "stdout"
        }
      ]
    },
    {
      "cell_type": "code",
      "metadata": {
        "colab": {
          "base_uri": "https://localhost:8080/"
        },
        "id": "RuIhyeDoUGXH",
        "outputId": "fea9d348-9060-4676-87da-c8ece9345391"
      },
      "source": [
        "start = time.time()\n",
        "\n",
        "def ELU_using_math_func(x, alpha): #parameter alpha\n",
        "  result = 0\n",
        "\n",
        "  if x != 0:\n",
        "    result = (alpha*(x-abs(x))*(math.exp(x)-1)+x*(abs(x)+x))/(2*x)\n",
        "\n",
        "  return result\n",
        "\n",
        "print(ELU_using_math_func(6, 1))\n",
        "print(ELU_using_math_func(0, 1))\n",
        "print(time.time() - start)"
      ],
      "execution_count": 24,
      "outputs": [
        {
          "output_type": "stream",
          "text": [
            "6.0\n",
            "0\n",
            "0.0006966590881347656\n"
          ],
          "name": "stdout"
        }
      ]
    },
    {
      "cell_type": "markdown",
      "metadata": {
        "id": "Px2WwO-NWR0o"
      },
      "source": [
        "# **PReLU**"
      ]
    },
    {
      "cell_type": "code",
      "metadata": {
        "colab": {
          "base_uri": "https://localhost:8080/"
        },
        "id": "zTlzt5ieWdka",
        "outputId": "d3a4d9e5-64b4-4ed1-c328-6e2c71fb2bb4"
      },
      "source": [
        "start = time.time()\n",
        "\n",
        "def PReLu(x, alpha): #parameter alpha\n",
        "  result = alpha*x\n",
        "  if x >= 0:\n",
        "    result = x\n",
        "  return result\n",
        "\n",
        "print(PReLu(6, 2))\n",
        "print(PReLu(-13, 2))\n",
        "print(time.time() - start)"
      ],
      "execution_count": 25,
      "outputs": [
        {
          "output_type": "stream",
          "text": [
            "6\n",
            "-26\n",
            "0.0002658367156982422\n"
          ],
          "name": "stdout"
        }
      ]
    },
    {
      "cell_type": "code",
      "metadata": {
        "colab": {
          "base_uri": "https://localhost:8080/"
        },
        "id": "yIm2mEQcWsmT",
        "outputId": "e5e1a163-8333-4a4f-9b25-5bbf1ebb8a27"
      },
      "source": [
        "start = time.time()\n",
        "\n",
        "def PReLu_using_math_func(x, alpha): #parameter alpha\n",
        "  return ((abs(x)+x)+alpha*(x-abs(x)))/2\n",
        "\n",
        "print(PReLu_using_math_func(6, 2))\n",
        "print(PReLu_using_math_func(-13, 2))\n",
        "print(time.time() - start)"
      ],
      "execution_count": 26,
      "outputs": [
        {
          "output_type": "stream",
          "text": [
            "6.0\n",
            "-26.0\n",
            "0.00048065185546875\n"
          ],
          "name": "stdout"
        }
      ]
    },
    {
      "cell_type": "code",
      "metadata": {
        "id": "Gu_x2hye94Yw"
      },
      "source": [
        ""
      ],
      "execution_count": null,
      "outputs": []
    }
  ]
}