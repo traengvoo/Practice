{
  "nbformat": 4,
  "nbformat_minor": 5,
  "metadata": {
    "kernelspec": {
      "display_name": "Python 3 (ipykernel)",
      "language": "python",
      "name": "python3"
    },
    "language_info": {
      "codemirror_mode": {
        "name": "ipython",
        "version": 3
      },
      "file_extension": ".py",
      "mimetype": "text/x-python",
      "name": "python",
      "nbconvert_exporter": "python",
      "pygments_lexer": "ipython3",
      "version": "3.9.5"
    },
    "colab": {
      "name": "Newton's approximation.ipynb",
      "provenance": [],
      "collapsed_sections": [],
      "include_colab_link": true
    }
  },
  "cells": [
    {
      "cell_type": "markdown",
      "metadata": {
        "id": "view-in-github",
        "colab_type": "text"
      },
      "source": [
        "<a href=\"https://colab.research.google.com/github/traengvoo/Practice/blob/main/Newton's_approximation.ipynb\" target=\"_parent\"><img src=\"https://colab.research.google.com/assets/colab-badge.svg\" alt=\"Open In Colab\"/></a>"
      ]
    },
    {
      "cell_type": "code",
      "metadata": {
        "id": "f5e1b70e"
      },
      "source": [
        "from IPython.display import Latex\n",
        "import math"
      ],
      "id": "f5e1b70e",
      "execution_count": null,
      "outputs": []
    },
    {
      "cell_type": "markdown",
      "metadata": {
        "id": "3ce371e9"
      },
      "source": [
        "\n",
        "![newtỏnaphson.webp](data:image/webp;base64,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)\n",
        "\n",
        "To find a function's roots, we can use Newton's approximation as follow:\n",
        "\n",
        "1, Take a point of the function: $(x_n,f(x_n))$ \n",
        "\n",
        "2, Find the equation of the tangent at that point: $y=f'(x_n)x_{n+1}+f(x_n)-f'(x_n)x_n <=> y-f(x_n)=f'(x_n)(x-x_n)$\n",
        "\n",
        "3, Find the intersection of the above equation and the x axis: $-f(x_n)=f'(x_n)(x_{n+1}-x_n)$\n",
        "\n",
        "4, The next point has $x_{n+1}=x_n-\\frac{f(x_n)}{f'(x_n)}$\n",
        "\n",
        "5, Repeat step 1-4 a few times \n",
        "\n"
      ],
      "id": "3ce371e9"
    },
    {
      "cell_type": "code",
      "metadata": {
        "colab": {
          "base_uri": "https://localhost:8080/"
        },
        "id": "171c5296",
        "outputId": "48d21388-f230-45d6-f215-4706617fd965"
      },
      "source": [
        "#find roots of function f(x)=x^3-3x+1\n",
        "#f'(x) = 3x^2-3\n",
        "#f'(x) = 0 <=> x=+-1\n",
        "#f(-1)=3, f(1)=-1, therefore, f(x) has exactly three roots:\n",
        "#x_1 in (-inf,-1), x_2 in (-1,1), x_3 in (1, inf)\n",
        "\n",
        "#declare f(x) and f'(x)\n",
        "function = lambda x : x**3-3*x+1\n",
        "function_derived = lambda x : 3*x**2-3\n",
        "\n",
        "#newton approximation:\n",
        "def newton_method(iterations, x_0, f, df):\n",
        "    '''\n",
        "    iterations -- number of times repeat step 1-4\n",
        "    x_0 -- initial points \n",
        "    '''\n",
        "    x = x_0\n",
        "    for i in range(iterations):\n",
        "        x = x - f(x)/df(x)\n",
        "    return x\n",
        "\n",
        "print(newton_method(7,-2, function, function_derived)) #because x_1 is in (-inf, -1), x_0 should also be in this range\n",
        "print(newton_method(7,0, function, function_derived))  #because x_2 is in (-1, 1), x_0 should also be in this range\n",
        "print(newton_method(7, 2, function, function_derived)) #because x_3 is in (1, inf), x_0 should also be in this range"
      ],
      "id": "171c5296",
      "execution_count": null,
      "outputs": [
        {
          "output_type": "stream",
          "text": [
            "-1.8793852415718166\n",
            "0.34729635533386066\n",
            "1.532088886237956\n"
          ],
          "name": "stdout"
        }
      ]
    },
    {
      "cell_type": "code",
      "metadata": {
        "colab": {
          "base_uri": "https://localhost:8080/"
        },
        "id": "981a69c9",
        "outputId": "cf8cbd0e-c7a0-4e86-d7b1-f39a5685a8f6"
      },
      "source": [
        "#finding the square root of N is just solving positive root of function f(x)=x^2-N=0\n",
        "\n",
        "N = 7\n",
        "\n",
        "function = lambda x : x**2-N\n",
        "function_derived = lambda x : 2*x\n",
        "\n",
        "if N<0:\n",
        "    print('The number must be positive')\n",
        "else:\n",
        "    print(newton_method(10000, 5, function, function_derived)) #choosing x_0=3 is appropriate since we want positive roots"
      ],
      "id": "981a69c9",
      "execution_count": null,
      "outputs": [
        {
          "output_type": "stream",
          "text": [
            "2.6457513110645907\n"
          ],
          "name": "stdout"
        }
      ]
    },
    {
      "cell_type": "code",
      "metadata": {
        "colab": {
          "base_uri": "https://localhost:8080/"
        },
        "id": "ee11a56c",
        "outputId": "de9bc435-95f8-4c22-a3a3-fced47b93029"
      },
      "source": [
        "function = lambda x : (1/(1+math.exp(-x)))-0.5\n",
        "function_derived = lambda x : math.exp(-x)/((1+math.exp(-x))**2)\n",
        "\n",
        "print(newton_method(200000, 0, function, function_derived))\n",
        "\n"
      ],
      "id": "ee11a56c",
      "execution_count": null,
      "outputs": [
        {
          "output_type": "stream",
          "text": [
            "0.0\n"
          ],
          "name": "stdout"
        }
      ]
    },
    {
      "cell_type": "markdown",
      "metadata": {
        "id": "9b75eeff"
      },
      "source": [
        "Extra: proving that $a_{n+1} = \\frac{a_n+\\frac{x}{a_n}}{2}$ converges\n",
        "$$a_{n+1} = \\frac{a_n+\\frac{x}{a_n}}{2}$$\n",
        "$$<=> 2a_{n+1}a_n=a_n^2+x$$\n",
        "$$<=> 2a_{n+1}a_n=a_n^2+x$$\n",
        "$$<=> -x+a_{n+1}^2=(a_n-a_{n+1})^2\\ge0$$\n",
        "$$<=> a_{n+1}^2\\ge x \\ \\forall n\\ge0 \\ $$\n",
        "$$<=> a_{n+1}^2\\ge x \\ \\forall n\\ge0 \\ $$\n",
        "Since $a_{n+1}>0 \\ \\forall n\\ge 0$\n",
        "$$<=> a_{n+1}\\ge \\frac{x}{a_{n+1}}\\ \\forall n\\ge0 \\ $$\n",
        "$$<=> 2a_{n+1}\\ge \\frac{x}{a_{n+1}}+a_{n+1}\\ \\forall n\\ge0 \\ $$\n",
        "$$<=> a_{n+1}\\ge \\frac{\\frac{x}{a_{n+1}}+a_{n+1}}{2}\\ \\forall n\\ge0 \\ $$\n",
        "$$<=> a_{n+1}\\ge a_{n+2} \\forall n\\ge0 \\ $$\n",
        "\n",
        "Therefore, $a_{n+2}\\ge a_{n+1}$ and $ a_{n+1}> \\sqrt{x} \\ \\forall n\\ge0 \\ => a_n \\to \\sqrt{x}$ as $n \\to \\inf$ "
      ],
      "id": "9b75eeff"
    },
    {
      "cell_type": "code",
      "metadata": {
        "id": "b68e170a"
      },
      "source": [
        ""
      ],
      "id": "b68e170a",
      "execution_count": null,
      "outputs": []
    },
    {
      "cell_type": "code",
      "metadata": {
        "id": "3599a286"
      },
      "source": [
        ""
      ],
      "id": "3599a286",
      "execution_count": null,
      "outputs": []
    }
  ]
}